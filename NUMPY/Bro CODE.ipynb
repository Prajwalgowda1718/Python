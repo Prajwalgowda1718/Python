{
 "cells": [
  {
   "cell_type": "markdown",
   "id": "dd9973a0",
   "metadata": {},
   "source": [
    "## Introduction\n",
    "\n"
   ]
  },
  {
   "cell_type": "markdown",
   "id": "fa611d58",
   "metadata": {},
   "source": [
    "**What is NumPy?**\n",
    "\n",
    "- **NumPy** = Numerical Python\n",
    "- A Python library for numerical computing\n",
    "- Widely used in data science, engineering, AI, and machine learning\n",
    "- Written in C under the hood, making it significantly faster than pure Python\n",
    "\n",
    "**Why NumPy?**\n",
    "\n",
    "- **Speed**: C implementation makes it magnitudes faster than Python lists\n",
    "- **Vectorized Operations**: Perform operations on entire arrays without loops\n",
    "- **Memory Efficiency**: More compact data storage\n",
    "- **Mathematical Functions**: Built-in mathematical and statistical functions"
   ]
  },
  {
   "cell_type": "code",
   "execution_count": 1,
   "id": "d5a340b7",
   "metadata": {},
   "outputs": [
    {
     "name": "stdout",
     "output_type": "stream",
     "text": [
      "1.26.2\n"
     ]
    }
   ],
   "source": [
    "# Import NumPy with alias\n",
    "import numpy as np\n",
    "\n",
    "# Check version\n",
    "print(np.__version__)"
   ]
  },
  {
   "cell_type": "markdown",
   "id": "d0e45fd5",
   "metadata": {},
   "source": [
    "## NumPy Arrays vs Python Lists"
   ]
  },
  {
   "cell_type": "code",
   "execution_count": 3,
   "id": "84bebf49",
   "metadata": {},
   "outputs": [
    {
     "data": {
      "text/plain": [
       "[1, 2, 3, 4, 1, 2, 3, 4]"
      ]
     },
     "execution_count": 3,
     "metadata": {},
     "output_type": "execute_result"
    }
   ],
   "source": [
    "# Python List behavior\n",
    "my_list = [1, 2, 3, 4]\n",
    "my_list * 2  # [1, 2, 3, 4, 1, 2, 3, 4] - duplicates elements# NumPy Array behavior"
   ]
  },
  {
   "cell_type": "code",
   "execution_count": 4,
   "id": "cd47f98f",
   "metadata": {},
   "outputs": [
    {
     "data": {
      "text/plain": [
       "array([2, 4, 6, 8])"
      ]
     },
     "execution_count": 4,
     "metadata": {},
     "output_type": "execute_result"
    }
   ],
   "source": [
    "array = np.array([1, 2, 3, 4])\n",
    "array * 2    # [2, 4, 6, 8] - multiplies each element"
   ]
  },
  {
   "cell_type": "markdown",
   "id": "97fcaf3f",
   "metadata": {},
   "source": [
    "## 2. Multi-Dimensional Arrays"
   ]
  },
  {
   "cell_type": "markdown",
   "id": "54afb0fd",
   "metadata": {},
   "source": [
    "### Array Dimensions\n",
    "\n"
   ]
  },
  {
   "cell_type": "markdown",
   "id": "f4045f66",
   "metadata": {},
   "source": [
    "**0-D Array (Scalar)**"
   ]
  },
  {
   "cell_type": "code",
   "execution_count": 5,
   "id": "1471fb52",
   "metadata": {},
   "outputs": [
    {
     "name": "stdout",
     "output_type": "stream",
     "text": [
      "0\n"
     ]
    }
   ],
   "source": [
    "array_0d = np.array(42)\n",
    "print(array_0d.ndim)  #ndim is a NumPy array attribute that returns the number of dimensions (axes) of the array."
   ]
  },
  {
   "cell_type": "markdown",
   "id": "4af66602",
   "metadata": {},
   "source": [
    "**1-D Array (Vector)**"
   ]
  },
  {
   "cell_type": "code",
   "execution_count": 6,
   "id": "1120ce07",
   "metadata": {},
   "outputs": [
    {
     "name": "stdout",
     "output_type": "stream",
     "text": [
      "1\n"
     ]
    }
   ],
   "source": [
    "array_1d = np.array([1, 2, 3])\n",
    "print(array_1d.ndim)  # 1"
   ]
  },
  {
   "cell_type": "markdown",
   "id": "1ee67f90",
   "metadata": {},
   "source": [
    "**2-D Array (Matrix)**"
   ]
  },
  {
   "cell_type": "code",
   "execution_count": 9,
   "id": "d5697f3f",
   "metadata": {},
   "outputs": [
    {
     "name": "stdout",
     "output_type": "stream",
     "text": [
      "2\n",
      "(2, 3)\n",
      "[[1 2 3]\n",
      " [4 5 6]]\n"
     ]
    }
   ],
   "source": [
    "array_2d = np.array([[1, 2, 3], \n",
    "                     [4, 5, 6]])\n",
    "print(array_2d.ndim)  # 2\n",
    "print(array_2d.shape) # (2, 3) - 2 rows, 3 columns\n",
    "\n",
    "# Accessing all the elements in a 2D array\n",
    "print(array_2d)"
   ]
  },
  {
   "cell_type": "markdown",
   "id": "47f314df",
   "metadata": {},
   "source": [
    "**3-D Array**"
   ]
  },
  {
   "cell_type": "code",
   "execution_count": 11,
   "id": "c37428c1",
   "metadata": {},
   "outputs": [
    {
     "name": "stdout",
     "output_type": "stream",
     "text": [
      "Dimension: 3\n",
      "Shape: (2, 2, 3)\n",
      "6\n",
      "8\n",
      "11\n"
     ]
    }
   ],
   "source": [
    "array_3d = np.array([[[1, 2, 3], \n",
    "                      [4, 5, 6]], \n",
    "                     [[7, 8, 9], \n",
    "                      [10, 11, 12]]])\n",
    "\n",
    "print(f'Dimension: {array_3d.ndim}')  # 3\n",
    "print(f'Shape: {array_3d.shape}') # (2, 2, 3) - 2 layers, 2 rows, 3 columns\n",
    "\n",
    "# accessing specific elements in a 3D array\n",
    "print(array_3d[0, 1, 2])  # 6\n",
    "print(array_3d[1, 0, 1])  # 8\n",
    "print(array_3d[1,1,1])    # 11\n"
   ]
  },
  {
   "cell_type": "markdown",
   "id": "597f92d2",
   "metadata": {},
   "source": [
    "### Array Indexing"
   ]
  },
  {
   "cell_type": "markdown",
   "id": "e5edb2d9",
   "metadata": {},
   "source": [
    "**Chain Indexing (Traditional)**"
   ]
  },
  {
   "cell_type": "code",
   "execution_count": 10,
   "id": "a10c6f6c",
   "metadata": {},
   "outputs": [
    {
     "data": {
      "text/plain": [
       "6"
      ]
     },
     "execution_count": 10,
     "metadata": {},
     "output_type": "execute_result"
    }
   ],
   "source": [
    "\n",
    "element = array_3d[0][1][2]  # Accessing the element at layer 0, row 1, column 2\n",
    "                             #Slower because it accesses each dimension separately \n",
    "element                      # 6 because it is the 3rd element in the 2nd row of the 1st layer\n",
    "\n"
   ]
  },
  {
   "cell_type": "markdown",
   "id": "2c596082",
   "metadata": {},
   "source": [
    "**Multi-dimensional Indexing (NumPy)**\n"
   ]
  },
  {
   "cell_type": "code",
   "execution_count": null,
   "id": "ac1dc0f2",
   "metadata": {},
   "outputs": [
    {
     "data": {
      "text/plain": [
       "6"
      ]
     },
     "execution_count": 18,
     "metadata": {},
     "output_type": "execute_result"
    }
   ],
   "source": [
    "element = array_3d[0, 1, 2]  # Faster and more efficient because it accesses the 3D array in one step\n",
    "\n",
    "element "
   ]
  },
  {
   "cell_type": "markdown",
   "id": "1e24633e",
   "metadata": {},
   "source": [
    "### Important Array Properties"
   ]
  },
  {
   "cell_type": "code",
   "execution_count": 13,
   "id": "e5462965",
   "metadata": {},
   "outputs": [
    {
     "name": "stdout",
     "output_type": "stream",
     "text": [
      "(2, 3)\n",
      "2\n",
      "int32\n",
      "6\n",
      "24\n"
     ]
    }
   ],
   "source": [
    "arr = np.array([[1, 2, 3], [4, 5, 6]])\n",
    "\n",
    "# Shape: dimensions of the array\n",
    "print(arr.shape)    # (2, 3)# Number of dimensions\n",
    "print(arr.ndim)     # 2# Data type\n",
    "print(arr.dtype)    # int64 (or int32 on some systems)# Size: total number of elements\n",
    "print(arr.size)     # 6# Memory usage\n",
    "print(arr.nbytes)   # Memory in bytes"
   ]
  },
  {
   "cell_type": "markdown",
   "id": "2877109c",
   "metadata": {},
   "source": [
    "## 3. Array Slicing"
   ]
  },
  {
   "cell_type": "markdown",
   "id": "7e61f838",
   "metadata": {},
   "source": [
    "### Basic Slicing"
   ]
  },
  {
   "cell_type": "code",
   "execution_count": 10,
   "id": "7d05df3c",
   "metadata": {},
   "outputs": [
    {
     "name": "stdout",
     "output_type": "stream",
     "text": [
      "\n",
      "Shape: (4, 4)\n",
      "\n",
      "First row: [1 2 3 4]\n",
      "\n",
      "Last row: [13 14 15 16]\n",
      "\n",
      "First 3 rows:\n",
      "[[ 1  2  3  4]\n",
      " [ 5  6  7  8]\n",
      " [ 9 10 11 12]]\n",
      "\n",
      "All rows from index 1:\n",
      "[[ 5  6  7  8]\n",
      " [ 9 10 11 12]\n",
      " [13 14 15 16]]\n",
      "\n",
      "Every second row:\n",
      "[[ 1  2  3  4]\n",
      " [ 9 10 11 12]]\n",
      "\n",
      "Reversed:\n",
      "[[13 14 15 16]\n",
      " [ 9 10 11 12]\n",
      " [ 5  6  7  8]\n",
      " [ 1  2  3  4]]\n"
     ]
    }
   ],
   "source": [
    "arr = np.array([[1, 2, 3, 4],\n",
    "                [5, 6, 7, 8],\n",
    "                [9, 10, 11, 12],\n",
    "                [13, 14, 15, 16]])\n",
    "\n",
    "# Select specific rows\n",
    "print(f'\\nShape: {arr.shape}')\n",
    "print(f'\\nFirst row: {arr[0]}')\n",
    "print(f'\\nLast row: {arr[-1]}')\n",
    "# Select range of rows\n",
    "print(f'\\nFirst 3 rows:\\n{arr[0:3]}')\n",
    "print(f'\\nAll rows from index 1:\\n{arr[1:]}')\n",
    "# Step through rows\n",
    "print(f'\\nEvery second row:\\n{arr[::2]}')\n",
    "print(f'\\nReversed:\\n{arr[::-1]}')   # All rows reversed"
   ]
  },
  {
   "cell_type": "markdown",
   "id": "ba5107a0",
   "metadata": {},
   "source": [
    "### Column Selection"
   ]
  },
  {
   "cell_type": "code",
   "execution_count": 20,
   "id": "e6e22b1f",
   "metadata": {},
   "outputs": [
    {
     "name": "stdout",
     "output_type": "stream",
     "text": [
      "\n",
      "first column [ 1  5  9 13]\n",
      "\n",
      "last column [ 4  8 12 16]\n",
      "\n",
      "first 2 columns \n",
      "[[ 1  2]\n",
      " [ 5  6]\n",
      " [ 9 10]\n",
      " [13 14]]\n",
      "\n",
      "all columns from index 1 \n",
      "[[ 2  3  4]\n",
      " [ 6  7  8]\n",
      " [10 11 12]\n",
      " [14 15 16]]\n",
      "\n",
      "first 2 elements of first 2 rows\n",
      " [[1 2]\n",
      " [5 6]]\n"
     ]
    }
   ],
   "source": [
    "# Select all rows, specific column\n",
    "arr = np.array([[1, 2, 3, 4],\n",
    "                [5, 6, 7, 8],\n",
    "                [9, 10, 11, 12],\n",
    "                [13, 14, 15, 16]])\n",
    "                \n",
    "print(f'\\nfirst column {arr[:, 0]}')    # First column: [1 5 9 13]\n",
    "print(f'\\nlast column {arr[:, -1]}')   # Last column: [4 8 12 16]\n",
    "# Select range of columns\n",
    "print(f'\\nfirst 2 columns \\n{arr[:, 0:2]}')  # First 2 columns\n",
    "print(f'\\nall columns from index 1 \\n{arr[:, 1:]}')   # All columns from index 1\n",
    "\n",
    "# printing first 2 elements  of first 2 rows\n",
    "print(f'\\nfirst 2 elements of first 2 rows\\n {arr[:2, :2]}') #it's work as \"row: from:end-1:step, col: from:end-1:step\""
   ]
  },
  {
   "cell_type": "markdown",
   "id": "fe1a7a8c",
   "metadata": {},
   "source": [
    "### Combined Row and Column Selection"
   ]
  },
  {
   "cell_type": "code",
   "execution_count": 23,
   "id": "24bab23f",
   "metadata": {},
   "outputs": [
    {
     "name": "stdout",
     "output_type": "stream",
     "text": [
      "\n",
      "top-left quadrant\n",
      "[[1 2]\n",
      " [5 6]]\n",
      "\n",
      "top-right quadrant\n",
      "[[3 4]\n",
      " [7 8]]\n",
      "\n",
      "bottom-left quadrant\n",
      "[[ 9 10]\n",
      " [13 14]]\n",
      "\n",
      "bottom-right quadrant\n",
      "[[11 12]\n",
      " [15 16]]\n"
     ]
    }
   ],
   "source": [
    "# Select specific quadrants\n",
    "print(f'\\ntop-left quadrant\\n{arr[0:2, 0:2]}')    # Top-left quadrant\n",
    "print(f'\\ntop-right quadrant\\n{arr[0:2, 2:]}')     # Top-right quadrant\n",
    "print(f'\\nbottom-left quadrant\\n{arr[2:, 0:2]}')     # Bottom-left quadrant\n",
    "print(f'\\nbottom-right quadrant\\n{arr[2:, 2:]}')      # Bottom-right quadrant"
   ]
  },
  {
   "cell_type": "markdown",
   "id": "bdb78cb0",
   "metadata": {},
   "source": [
    "### Advanced Slicing Examples"
   ]
  },
  {
   "cell_type": "code",
   "execution_count": 31,
   "id": "03c0e871",
   "metadata": {},
   "outputs": [
    {
     "name": "stdout",
     "output_type": "stream",
     "text": [
      "[[ 1  3]\n",
      " [ 9 11]]\n",
      "\n",
      "[[16 15 14 13]\n",
      " [12 11 10  9]\n",
      " [ 8  7  6  5]\n",
      " [ 4  3  2  1]]\n",
      "\n",
      "[[ 1  2  3  4]\n",
      " [ 9 10 11 12]]\n",
      "\n",
      "[[ 1  4]\n",
      " [ 5  8]\n",
      " [ 9 12]\n",
      " [13 16]]\n",
      "\n"
     ]
    }
   ],
   "source": [
    "# Every second element in both dimensions\n",
    "print(arr[::2, ::2], end='\\n\\n')\n",
    "\n",
    "# Reverse both rows and columns\n",
    "print(arr[::-1, ::-1], end='\\n\\n')\n",
    "\n",
    "# Select non-contiguous rows/columns\n",
    "print(arr[[0, 2], :], end='\\n\\n')   # Rows 0 and 2\n",
    "print(arr[:, [0, 3]], end='\\n\\n')   # Columns 0 and 3"
   ]
  },
  {
   "cell_type": "markdown",
   "id": "e017ad9d",
   "metadata": {},
   "source": [
    "## 4. Arithmetic Operations"
   ]
  },
  {
   "cell_type": "markdown",
   "id": "bb47b737",
   "metadata": {},
   "source": [
    "### Scalar Arithmetic"
   ]
  },
  {
   "cell_type": "code",
   "execution_count": 32,
   "id": "91b4f18c",
   "metadata": {},
   "outputs": [
    {
     "name": "stdout",
     "output_type": "stream",
     "text": [
      "[6 7 8]\n",
      "[-1  0  1]\n",
      "[3 6 9]\n",
      "[0.5 1.  1.5]\n",
      "[1 4 9]\n",
      "[1 0 1]\n"
     ]
    }
   ],
   "source": [
    "arr = np.array([1, 2, 3])\n",
    "\n",
    "# Basic operations\n",
    "print(arr + 5)    # [6 7 8]\n",
    "print(arr - 2)    # [-1 0 1]\n",
    "print(arr * 3)    # [3 6 9]\n",
    "print(arr / 2)    # [0.5 1. 1.5]\n",
    "print(arr ** 2)   # [1 4 9]\n",
    "print(arr % 2)    # [1 0 1] - modulus"
   ]
  },
  {
   "cell_type": "markdown",
   "id": "78eb026f",
   "metadata": {},
   "source": [
    "### Vectorized Math Functions"
   ]
  },
  {
   "cell_type": "code",
   "execution_count": 37,
   "id": "ddfa8a32",
   "metadata": {},
   "outputs": [
    {
     "name": "stdout",
     "output_type": "stream",
     "text": [
      "\n",
      " Sqrt : \n",
      " [1. 2. 3. 4.]\n",
      "\n",
      " Log : \n",
      "[0.         1.38629436 2.19722458 2.77258872]\n",
      "\n",
      " exp : \n",
      "[2.71828183e+00 5.45981500e+01 8.10308393e+03 8.88611052e+06]\n",
      "\n",
      " Sine : \n",
      "[ 0.84147098 -0.7568025   0.41211849 -0.28790332]\n",
      "\n",
      " Cosine : \n",
      "[ 0.54030231 -0.65364362 -0.91113026 -0.95765948]\n",
      "\n",
      " Rounded : \n",
      "[1. 3. 3. 5.]\n",
      "\n",
      " Floor : \n",
      "[1. 2. 3. 4.]\n",
      "\n",
      " Ceil : \n",
      "[2. 3. 4. 5.]\n",
      "\n",
      " Pi : 3.141592653589793\n",
      "\n",
      " e : 2.718281828459045\n"
     ]
    }
   ],
   "source": [
    "arr = np.array([1, 4, 9, 16])\n",
    "\n",
    "# Mathematical functions\n",
    "print(f'\\n Sqrt : \\n {np.sqrt(arr)}')     # [1. 2. 3. 4.]\n",
    "print(f'\\n Log : \\n{np.log(arr)}')      # Natural logarithm\n",
    "print(f'\\n exp : \\n{np.exp(arr)}')      # e^x\n",
    "print(f'\\n Sine : \\n{np.sin(arr)}')      # Sine\n",
    "print(f'\\n Cosine : \\n{np.cos(arr)}')    # Cosine\n",
    "\n",
    "# Rounding functions\n",
    "arr_float = np.array([1.2, 2.7, 3.1, 4.9])\n",
    "print(f'\\n Rounded : \\n{np.round(arr_float)}')  # [1. 3. 3. 5.]\n",
    "print(f'\\n Floor : \\n{np.floor(arr_float)}')    # [1. 2. 3. 4.]\n",
    "print(f'\\n Ceil : \\n{np.ceil(arr_float)}')      # [2. 3. 4. 5.]\n",
    "\n",
    "# Constants\n",
    "print(f'\\n Pi : {np.pi}')    # 3.141592653589793\n",
    "print(f'\\n e : {np.e}')      # 2.718281828459045"
   ]
  },
  {
   "cell_type": "markdown",
   "id": "38ce94f6",
   "metadata": {},
   "source": [
    "### Element-wise Arithmetic"
   ]
  },
  {
   "cell_type": "code",
   "execution_count": 38,
   "id": "b76162a8",
   "metadata": {},
   "outputs": [
    {
     "name": "stdout",
     "output_type": "stream",
     "text": [
      "[5 7 9]\n",
      "[-3 -3 -3]\n",
      "[ 4 10 18]\n",
      "[0.25 0.4  0.5 ]\n",
      "[  1  32 729]\n"
     ]
    }
   ],
   "source": [
    "arr1 = np.array([1, 2, 3])\n",
    "arr2 = np.array([4, 5, 6])\n",
    "\n",
    "print(arr1 + arr2)  # [5 7 9]\n",
    "print(arr1 - arr2)  # [-3 -3 -3]\n",
    "print(arr1 * arr2)  # [4 10 18]\n",
    "print(arr1 / arr2)  # [0.25 0.4 0.5]\n",
    "print(arr1 ** arr2) # [1 32 729]"
   ]
  },
  {
   "cell_type": "markdown",
   "id": "b1f7ab6d",
   "metadata": {},
   "source": [
    "### Comparison Operations"
   ]
  },
  {
   "cell_type": "code",
   "execution_count": null,
   "id": "605e5d9c",
   "metadata": {},
   "outputs": [
    {
     "name": "stdout",
     "output_type": "stream",
     "text": [
      "[False  True False  True False False]\n",
      "[False False  True False False False]\n",
      "[False  True False False False False]\n",
      "[85 92  0 96 88  0]\n"
     ]
    }
   ],
   "source": [
    "scores = np.array([85, 92, 78, 96, 88, 80])\n",
    "\n",
    "# Boolean arrays\n",
    "print(scores >= 90)     # [False True False True False]\n",
    "print(scores < 80)      # [False False True False False]\n",
    "print(scores == 92)     # [False True False False False]# Conditional assignment\n",
    "failing_scores = scores.copy()\n",
    "failing_scores[failing_scores <= 80] = 0\n",
    "print(failing_scores)   # [85 92 0 96 88 0]"
   ]
  },
  {
   "cell_type": "markdown",
   "id": "d29519cc",
   "metadata": {},
   "source": [
    "### Practicle example"
   ]
  },
  {
   "cell_type": "code",
   "execution_count": 42,
   "id": "59cd568c",
   "metadata": {},
   "outputs": [
    {
     "name": "stdout",
     "output_type": "stream",
     "text": [
      "Radii: [1 2 3 4 5]\n",
      "Areas: [ 3.14159265 12.56637061 28.27433388 50.26548246 78.53981634]\n"
     ]
    }
   ],
   "source": [
    "# Calculate areas of circles given radii\n",
    "radii = np.array([1, 2, 3, 4, 5])\n",
    "areas = np.pi * radii ** 2\n",
    "print(f\"Radii: {radii}\")\n",
    "print(f\"Areas: {areas}\")"
   ]
  },
  {
   "cell_type": "markdown",
   "id": "19573007",
   "metadata": {},
   "source": [
    "## 5. Broadcasting"
   ]
  },
  {
   "cell_type": "markdown",
   "id": "faba8bb5",
   "metadata": {},
   "source": [
    "Broadcasting allows operations on arrays with different shapes by virtually expanding dimensions.\n",
    "\n",
    "### Broadcasting Rules\n",
    "\n",
    "1. Arrays are aligned from the rightmost dimension\n",
    "2. Dimensions are compatible if:\n",
    "    - They are equal, OR\n",
    "    - One of them is 1"
   ]
  },
  {
   "cell_type": "markdown",
   "id": "77d3e9e3",
   "metadata": {},
   "source": [
    "### Broadcasting Examples"
   ]
  },
  {
   "cell_type": "code",
   "execution_count": 11,
   "id": "477932ae",
   "metadata": {},
   "outputs": [
    {
     "name": "stdout",
     "output_type": "stream",
     "text": [
      "(5,)\n",
      "(4, 1)\n",
      "\n",
      "[[ 2  4  6  8 10]\n",
      " [ 3  6  9 12 15]\n",
      " [ 4  8 12 16 20]\n",
      " [ 5 10 15 20 25]]\n",
      "\n",
      "\n",
      "(2, 3)\n",
      "(3,)\n",
      "\n",
      "[[11 22 33]\n",
      " [14 25 36]]\n",
      "\n",
      "(1, 4)\n",
      "(3, 1)\n",
      "\n",
      "[[ 1  2  3  4]\n",
      " [ 2  4  6  8]\n",
      " [ 3  6  9 12]]\n"
     ]
    }
   ],
   "source": [
    "import numpy as np\n",
    "# Example 1: 1D array + scalar\n",
    "arr = np.array([1, 2, 3, 4,5])\n",
    "arr_1=np.array([[2],[3],[4],[5]])\n",
    "print(arr.shape)\n",
    "print(arr_1.shape, end=\"\\n\\n\")\n",
    "result = arr * arr_1  # broadcastes because shapes are compatible eg (4,) and (4,1)\n",
    "print(result, end ='\\n\\n\\n')      \n",
    "\n",
    "\n",
    "'''# Example : wont work becais shape does not match \n",
    "arr = np.array([[1, 2, 3, 4, 5],\n",
    "               [3, 5, 6, 7, 8]])\n",
    "arr_1 = np.array([[2], [3], [4], [5], [10]])\n",
    "print(arr.shape)\n",
    "print(arr_1.shape, end=\"\\n\\n\")\n",
    "result = arr * arr_1  # broadcastes because shapes are compatible eg (4,) and (4,1)\n",
    "print(result, end ='\\n\\n\\n')      \n",
    "'''\n",
    "\n",
    "# Example 2: 2D array + 1D array\n",
    "arr_2d = np.array([[1, 2, 3],\n",
    "                   [4, 5, 6]])\n",
    "arr_1d = np.array([10, 20, 30])\n",
    "print(arr_2d.shape)\n",
    "print(arr_1d.shape, end=\"\\n\\n\")\n",
    "result = arr_2d + arr_1d  # Broadcasts arr_1d to each row\n",
    "print(result, end='\\n\\n')\n",
    "\n",
    "\n",
    "# [[11 22 33]#  [14 25 36]]# Example 3: Compatible shapes\n",
    "arr1 = np.array([[1, 2, 3, 4]])    # Shape: (1, 4)\n",
    "arr2 = np.array([[1], [2], [3]])   # Shape: (3, 1)\n",
    "print(arr1.shape)  # (1, 4)\n",
    "print(arr2.shape , end=\"\\n\\n\")\n",
    "result = arr1 * arr2               # Result shape: (3, 4)\n",
    "print(result)"
   ]
  },
  {
   "cell_type": "markdown",
   "id": "1880dd25",
   "metadata": {},
   "source": [
    "## 6. Aggregate Functions"
   ]
  },
  {
   "cell_type": "markdown",
   "id": "c45f79fa",
   "metadata": {},
   "source": [
    "### Basic Aggregate Functions"
   ]
  },
  {
   "cell_type": "code",
   "execution_count": null,
   "id": "3d8d9390",
   "metadata": {},
   "outputs": [
    {
     "name": "stdout",
     "output_type": "stream",
     "text": [
      "[[1 2 3 4]\n",
      " [5 6 7 8]]\n",
      "\n",
      "36\n",
      "4.5\n",
      "4.5\n",
      "2.29128784747792\n",
      "5.25\n",
      "1\n",
      "8\n",
      "0\n",
      "7\n"
     ]
    }
   ],
   "source": [
    "data = np.array([[1, 2, 3, 4],\n",
    "                 [5, 6, 7, 8]])\n",
    "\n",
    "\n",
    "print(data, end='\\n\\n')\n",
    "# Sum all elements\n",
    "print(np.sum(data))      # 36# Statistical measures\n",
    "print(np.mean(data))     # 4.5 (average)\n",
    "print(np.median(data))   # 4.5 (middle value)\n",
    "print(np.std(data))      # 2.29... (standard deviation) \n",
    "print(np.var(data))      # 5.25 (variance)# Min/Max values\n",
    "print(np.min(data))      # 1\n",
    "print(np.max(data))      # 8# Find positions of min/max\n",
    "print(np.argmin(data))   # 0 (flattened index of minimum)\n",
    "print(np.argmax(data))   # 7 (flattened index of maximum)"
   ]
  },
  {
   "cell_type": "markdown",
   "id": "07c5f47a",
   "metadata": {},
   "source": [
    "### Axis-specific Operations"
   ]
  },
  {
   "cell_type": "code",
   "execution_count": 21,
   "id": "143e5ade",
   "metadata": {},
   "outputs": [
    {
     "name": "stdout",
     "output_type": "stream",
     "text": [
      "[12 15 18]\n",
      "[ 6 15 24]\n",
      "[4. 5. 6.]\n",
      "[2. 5. 8.]\n",
      "[1 2 3]\n",
      "[3 6 9]\n"
     ]
    }
   ],
   "source": [
    "data = np.array([[1, 2, 3],\n",
    "                 [4, 5, 6],\n",
    "                 [7, 8, 9]])\n",
    "\n",
    "# Operations along different axes axis=0 for columns 1 for rows\n",
    "print(np.sum(data, axis=0))    # [12 15 18] - sum of columns\n",
    "print(np.sum(data, axis=1))    # [6 15 24] - sum of rows\n",
    "\n",
    "print(np.mean(data, axis=0))   # [4. 5. 6.] - mean of columns\n",
    "print(np.mean(data, axis=1))   # [2. 5. 8.] - mean of rows# Min/Max along axes\n",
    "print(np.min(data, axis=0))    # [1 2 3] - minimum in each column\n",
    "print(np.max(data, axis=1))    # [3 6 9] - maximum in each row\n"
   ]
  },
  {
   "cell_type": "markdown",
   "id": "544505f1",
   "metadata": {},
   "source": [
    "### Additional Useful Functions"
   ]
  },
  {
   "cell_type": "code",
   "execution_count": null,
   "id": "b557d955",
   "metadata": {},
   "outputs": [
    {
     "name": "stdout",
     "output_type": "stream",
     "text": [
      "[1 2 3 4 5 8 9]\n",
      "[0 4 2 6 1 5 3]\n",
      "[1 2 3 4]\n",
      "[ 1  6  9 18 20 28 32]\n",
      "[   1    5   15  135  270 2160 8640]\n",
      "4.0\n",
      "2.5\n",
      "6.5\n"
     ]
    }
   ],
   "source": [
    "data = np.array([1, 5, 3, 9, 2, 8, 4])\n",
    "\n",
    "# Sorting\n",
    "print(np.sort(data))           # [1 2 3 4 5 8 9]\n",
    "print(np.argsort(data))        # [0 4 2 6 1 5 3] - indices that would sort\n",
    "\n",
    "# Unique values\n",
    "data_with_duplicates = np.array([1, 2, 2, 3, 3, 3, 4])\n",
    "print(np.unique(data_with_duplicates))  # [1 2 3 4] gives the unique values\n",
    "\n",
    "# Cumulative operations\n",
    "print(np.cumsum(data))         # [1 6 9 18 20 28 32] - cumulative sum means each element is the sum of all previous elements\n",
    "print(np.cumprod(data))        # Cumulative product means each element is the product of all previous elements\n",
    "print(np.percentile(data, 50))  # Median (50th percentile) percentile means 50% of the data falls below this value\n",
    "print(np.percentile(data, 25))  # First quartile percentile means 25% of the data falls below this value\n",
    "print(np.percentile(data, 75))  # Third quartile percentile means 75% of the data falls below this value"
   ]
  },
  {
   "cell_type": "markdown",
   "id": "3502da13",
   "metadata": {},
   "source": [
    "## 7. Filtering and Boolean Indexing"
   ]
  },
  {
   "cell_type": "markdown",
   "id": "1d2f32dd",
   "metadata": {},
   "source": [
    "### Basic Filtering"
   ]
  },
  {
   "cell_type": "code",
   "execution_count": null,
   "id": "788e81da",
   "metadata": {},
   "outputs": [
    {
     "name": "stdout",
     "output_type": "stream",
     "text": [
      "[[False  True False False]\n",
      " [ True False False False]\n",
      " [False False  True False]]\n",
      "\n",
      "[17 16 65 15 99]\n"
     ]
    }
   ],
   "source": [
    "ages = np.array([[21, 17, 19, 20],\n",
    "                 [16, 30, 18, 65],\n",
    "                 [39, 22, 15, 99]])\n",
    "\n",
    "# Create boolean mask| boolean mask is a way to filter elements of an array based on a condition\n",
    "mask = ages < 18\n",
    "print(mask, end='\\n\\n')  # Boolean array showing which elements are < 18\n",
    "\n",
    "# Apply filter (creates 1D array) \n",
    "teen_and_adults = ages[(ages < 18) | (ages >=65)]\n",
    "print(teen_and_adults)  "
   ]
  },
  {
   "cell_type": "markdown",
   "id": "6f871f5f",
   "metadata": {},
   "source": [
    "### Complex Filtering with Logical Operators"
   ]
  },
  {
   "cell_type": "code",
   "execution_count": null,
   "id": "91f5f8ef",
   "metadata": {},
   "outputs": [
    {
     "name": "stdout",
     "output_type": "stream",
     "text": [
      "[21 19 20 30 18 39 22]\n",
      "[17 16 65 15 99]\n",
      "[20 16 30 18 22]\n",
      "[21 19 20 30 18 65 39 22 99]\n"
     ]
    }
   ],
   "source": [
    "# Use & (and), | (or), ~ (not) for multiple conditions# Note: Use parentheses around each condition# Adults (18-64)\n",
    "adults = ages[(ages >= 18) & (ages < 65)]\n",
    "print(adults)\n",
    "\n",
    "# Minors OR seniors\n",
    "minors_or_seniors = ages[(ages < 18) | (ages >= 65)]\n",
    "print(minors_or_seniors)\n",
    "\n",
    "# Even ages\n",
    "even_ages = ages[ages % 2 == 0]\n",
    "print(even_ages)\n",
    "\n",
    "# Not teenagers (complement)\n",
    "not_teenagers = ages[~(ages < 18)] #~ means NOT\n",
    "print(not_teenagers)"
   ]
  },
  {
   "cell_type": "markdown",
   "id": "4f1ee74c",
   "metadata": {},
   "source": [
    "### Preserving Shape with `np.where()`"
   ]
  },
  {
   "cell_type": "code",
   "execution_count": null,
   "id": "b83b9203",
   "metadata": {},
   "outputs": [
    {
     "name": "stdout",
     "output_type": "stream",
     "text": [
      "[[21  0 19 20]\n",
      " [ 0 30 18 65]\n",
      " [39 22  0 99]]\n",
      "\n",
      "[[ 21  -1  19  20]\n",
      " [ -1  30  18 100]\n",
      " [ 39  22  -1 100]]\n"
     ]
    }
   ],
   "source": [
    "# np.where() preserves original array shape\n",
    "# Syntax: np.where(condition, array, fill_value)\n",
    "# Replace ages under 18 with 0, keep others\n",
    "\n",
    "result = np.where(ages >= 18, ages, 0)\n",
    "print(result, end=\"\\n\\n\")\n",
    "\n",
    "# Original shape is preserved, minors replaced with 0\n",
    "\n",
    "\n",
    "# More complex replacements\n",
    "# Replace minors with -1, adults with ages, seniors with 100\n",
    "\n",
    "result = np.where(ages < 18, -1, \n",
    "                 np.where(ages >= 65, 100, ages))\n",
    "print(result)"
   ]
  },
  {
   "cell_type": "markdown",
   "id": "abafdc45",
   "metadata": {},
   "source": [
    "### Conditional Assignment"
   ]
  },
  {
   "cell_type": "code",
   "execution_count": null,
   "id": "a754be16",
   "metadata": {},
   "outputs": [
    {
     "name": "stdout",
     "output_type": "stream",
     "text": [
      "[85  0 92  0 78]\n",
      "[3 0 4 0 2]\n"
     ]
    }
   ],
   "source": [
    "# Modify original array based on conditions\n",
    "scores = np.array([85, 55, 92, 45, 78])\n",
    "\n",
    "# Set failing scores (< 60) to 0\n",
    "scores_copy = scores.copy()          # Create a copy to avoid modifying original\n",
    "scores_copy[scores_copy < 60] = 0    # Set failing scores to 0\n",
    "print(scores_copy)                   # [85  0 92  0 78]\n",
    "\n",
    "# Grade assignment\n",
    "grades = scores.copy()\n",
    "grades[scores >= 90] = 4                    # A | This will assign a grade of 4 to scores >= 90\n",
    "grades[(scores >= 80) & (scores < 90)] = 3  # B\n",
    "grades[(scores >= 70) & (scores < 80)] = 2  # C\n",
    "grades[(scores >= 60) & (scores < 70)] = 1  # D\n",
    "grades[scores < 60] = 0                     # F\n",
    "print(grades)"
   ]
  },
  {
   "cell_type": "markdown",
   "id": "22487728",
   "metadata": {},
   "source": [
    "### Advanced Filtering Examples"
   ]
  },
  {
   "cell_type": "code",
   "execution_count": 26,
   "id": "0acf5ce3",
   "metadata": {},
   "outputs": [
    {
     "name": "stdout",
     "output_type": "stream",
     "text": [
      "Original data:\n",
      "[[31 66 27 95 27]\n",
      " [37  4 71 20 27]\n",
      " [12 76 29 68 75]\n",
      " [91 22 80 42 34]\n",
      " [68 86 61 35 48]]\n",
      "\n",
      "Values between 30-70: [31 66 37 68 42 34 68 61 35 48]\n",
      "Count of values >= 50: 11\n",
      "Indices of values >= 50: [(0, 1), (0, 3), (1, 2), (2, 1), (2, 3), (2, 4), (3, 0), (3, 2), (4, 0), (4, 1), (4, 2)]\n"
     ]
    }
   ],
   "source": [
    "# Multi-dimensional filtering\n",
    "data = np.random.randint(1, 100, (5, 5)) # Generate random data (5x5 matrix)\n",
    "print(\"Original data:\")\n",
    "print(data, end='\\n\\n')\n",
    "\n",
    "# Find all values in specific range\n",
    "in_range = data[(data >= 30) & (data <= 70)]\n",
    "print(f\"Values between 30-70: {in_range}\")\n",
    "\n",
    "# Count elements meeting condition\n",
    "count = np.sum((data >= 50))\n",
    "print(f\"Count of values >= 50: {count}\")\n",
    "\n",
    "# Get indices of elements meeting condition\n",
    "indices = np.where(data >= 50)\n",
    "print(f\"Indices of values >= 50: {list(zip(indices[0], indices[1]))}\")"
   ]
  },
  {
   "cell_type": "markdown",
   "id": "e0ef1329",
   "metadata": {},
   "source": [
    "## 8. Random Numbers and Sampling"
   ]
  },
  {
   "cell_type": "markdown",
   "id": "ed9b79b7",
   "metadata": {},
   "source": [
    "### Setting up Random Number Generator"
   ]
  },
  {
   "cell_type": "code",
   "execution_count": 73,
   "id": "afc26082",
   "metadata": {},
   "outputs": [],
   "source": [
    "# Create a random number generator\n",
    "rng = np.random.default_rng()\n",
    "\n",
    "# For reproducible results, use a seed\n",
    "rng = np.random.default_rng(seed=900) # Create a new random number generator with a seed | seed is used to initialize the random number generator \n",
    "\n"
   ]
  },
  {
   "cell_type": "markdown",
   "id": "3aea6e55",
   "metadata": {},
   "source": [
    "### Random Integers"
   ]
  },
  {
   "cell_type": "code",
   "execution_count": null,
   "id": "e663fac3",
   "metadata": {},
   "outputs": [
    {
     "name": "stdout",
     "output_type": "stream",
     "text": [
      "4\n",
      "\n",
      "[84 27  6 36 23]\n",
      "\n",
      "[[[ 4  7  6]\n",
      "  [ 1  6 10]\n",
      "  [ 1  3  8]]\n",
      "\n",
      " [[ 3  9  7]\n",
      "  [ 8  3  3]\n",
      "  [ 6  3  7]]]\n"
     ]
    }
   ],
   "source": [
    "# Single random integer\n",
    "random_int = rng.integers(low=1, high=7)  # Dice roll (1-6)\n",
    "print(random_int, end='\\n\\n')\n",
    "\n",
    "# Multiple random integers\n",
    "random_ints = rng.integers(low=1, high=101, size=5)  # 5 numbers 1-100\n",
    "print(random_ints, end='\\n\\n')\n",
    "\n",
    "# 2D array of random integers\n",
    "random_2d = rng.integers(low=1, high=11, size=(2, 3, 3))  # 2x3x3 array layers, 2 layers 3 rows 3 columns\n",
    "print(random_2d)"
   ]
  },
  {
   "cell_type": "markdown",
   "id": "a1e3dffe",
   "metadata": {},
   "source": [
    "### Random Floating-Point Numbers"
   ]
  },
  {
   "cell_type": "code",
   "execution_count": 82,
   "id": "aff7819d",
   "metadata": {},
   "outputs": [
    {
     "name": "stdout",
     "output_type": "stream",
     "text": [
      "0.32245825278631934\n",
      "\n",
      "[0.58786874 0.66029703 0.03433718 0.08562204 0.78662313]\n",
      "\n",
      "[-0.09341652  0.99813594 -0.03280784 -0.95287185  0.02680087 -0.93200583\n",
      " -0.62591839 -0.69777927 -0.38376276 -0.41501279]\n",
      "\n",
      "[[86.84282107 59.79249947 26.26226139]\n",
      " [94.03034659  7.93895227 16.19737586]\n",
      " [55.81249635 30.14182861 38.34812562]]\n"
     ]
    }
   ],
   "source": [
    "# Random float between 0 and 1\n",
    "random_float = rng.random()\n",
    "print(random_float, end='\\n\\n')\n",
    "\n",
    "# Multiple random floats\n",
    "random_floats = rng.random(size=5)\n",
    "print(random_floats, end='\\n\\n')\n",
    "\n",
    "# Random floats in specific range using uniform distribution\n",
    "random_uniform = rng.uniform(low=-1, high=1, size=10)\n",
    "print(random_uniform, end='\\n\\n')\n",
    "\n",
    "# 2D array of random floats\n",
    "random_2d_floats = rng.uniform(low=0, high=100, size=(3, 3))\n",
    "print(random_2d_floats)"
   ]
  },
  {
   "cell_type": "markdown",
   "id": "fb7f87d5",
   "metadata": {},
   "source": [
    "### Random Sampling from Distributions"
   ]
  },
  {
   "cell_type": "code",
   "execution_count": 90,
   "id": "1c281254",
   "metadata": {},
   "outputs": [
    {
     "data": {
      "image/png": "[encoded data removed]",
      "text/plain": [
       "<Figure size 640x480 with 1 Axes>"
      ]
     },
     "metadata": {},
     "output_type": "display_data"
    },
    {
     "name": "stdout",
     "output_type": "stream",
     "text": [
      "[-0.56577031 -1.17716097  1.52208036 -0.22814848  0.14379444]\n",
      "\n",
      "[8.10837959 0.15561592 2.38461938 0.18092315 4.03888588]\n",
      "\n",
      "[2 5 5 4 4]\n",
      "\n"
     ]
    }
   ],
   "source": [
    "# Normal (Gaussian) distribution\n",
    "normal_samples = rng.normal(loc=0, scale=1, size=5)  # mean=0, std=1\n",
    "#Visualize distribution (if matplotlib available)\n",
    "import matplotlib.pyplot as plt\n",
    "plt.hist(normal_samples, bins=20)\n",
    "plt.show()\n",
    "# Other distributions\n",
    "exponential = rng.exponential(scale=2, size=5)\n",
    "poisson = rng.poisson(lam=3, size=5)\n",
    "print(normal_samples, end='\\n\\n')\n",
    "print(exponential, end='\\n\\n')\n",
    "print(poisson, end='\\n\\n')"
   ]
  },
  {
   "cell_type": "markdown",
   "id": "fbb135a5",
   "metadata": {},
   "source": [
    "### Array Shuffling and Sampling"
   ]
  },
  {
   "cell_type": "code",
   "execution_count": 95,
   "id": "05cf1a2b",
   "metadata": {},
   "outputs": [
    {
     "name": "stdout",
     "output_type": "stream",
     "text": [
      "Shuffled: ['apple' 'banana' 'orange' 'grape' 'kiwi']\n",
      "\n",
      "\n",
      "Random fruit: grape\n",
      "\n",
      "\n",
      "Random fruits: ['banana' 'banana' 'grape']\n",
      "\n",
      "\n",
      "Unique random fruits: ['apple' 'grape' 'banana']\n",
      "\n",
      "\n",
      "Weighted choices: ['grape' 'banana' 'banana' 'apple' 'orange' 'banana' 'apple' 'apple'\n",
      " 'apple' 'orange']\n"
     ]
    }
   ],
   "source": [
    "# Create an array to work with\n",
    "fruits = np.array(['apple', 'orange', 'banana', 'grape', 'kiwi'])\n",
    "\n",
    "# Shuffle array in-place\n",
    "fruits_copy = fruits.copy()\n",
    "rng.shuffle(fruits_copy)\n",
    "print(f\"Shuffled: {fruits_copy}\\n\\n\")\n",
    "\n",
    "# Random choice (with replacement)\n",
    "random_fruit = rng.choice(fruits)\n",
    "print(f\"Random fruit: {random_fruit}\\n\\n\")\n",
    "\n",
    "# Multiple random choices\n",
    "random_fruits = rng.choice(fruits, size=3)\n",
    "print(f\"Random fruits: {random_fruits}\\n\\n\")\n",
    "\n",
    "# Random choice without replacement\n",
    "random_fruits_unique = rng.choice(fruits, size=3, replace=False)\n",
    "print(f\"Unique random fruits: {random_fruits_unique}\\n\\n\")\n",
    "\n",
    "# Weighted random choice\n",
    "weights = [0.4, 0.3, 0.2, 0.08, 0.02]  # Probabilities for each fruit\n",
    "weighted_choice = rng.choice(fruits, size=10, p=weights)  # 10 samples from fruits with specified weights\n",
    "print(f\"Weighted choices: {weighted_choice}\")"
   ]
  },
  {
   "cell_type": "markdown",
   "id": "e4373b86",
   "metadata": {},
   "source": [
    "### Generating Random Data for Testing"
   ]
  },
  {
   "cell_type": "code",
   "execution_count": 96,
   "id": "0a7ad5dd",
   "metadata": {},
   "outputs": [
    {
     "name": "stdout",
     "output_type": "stream",
     "text": [
      "Average age: 48.7\n",
      "Average income: $49,671\n",
      "Average spending: $6,965\n"
     ]
    }
   ],
   "source": [
    "# Generate test dataset\n",
    "def generate_test_data(n_samples=1000, seed=42):\n",
    "    rng = np.random.default_rng(seed=seed)\n",
    "    \n",
    "    # Features\n",
    "    age = rng.integers(18, 80, size=n_samples)\n",
    "    income = rng.normal(50000, 15000, size=n_samples)\n",
    "    income = np.maximum(income, 0)  # Ensure non-negative\n",
    "    \n",
    "    # Target variable with some relationship to features\n",
    "    noise = rng.normal(0, 5000, size=n_samples)\n",
    "    spending = 0.1 * income + 50 * age + noise\n",
    "    \n",
    "    return {\n",
    "        'age': age,\n",
    "        'income': income,\n",
    "        'spending': spending\n",
    "    }\n",
    "\n",
    "# Generate and use test data\n",
    "test_data = generate_test_data()\n",
    "print(f\"Average age: {np.mean(test_data['age']):.1f}\")\n",
    "print(f\"Average income: ${np.mean(test_data['income']):,.0f}\")\n",
    "print(f\"Average spending: ${np.mean(test_data['spending']):,.0f}\")"
   ]
  },
  {
   "cell_type": "markdown",
   "id": "243c6d1c",
   "metadata": {},
   "source": [
    "## 9. Advanced NumPy Features"
   ]
  },
  {
   "cell_type": "markdown",
   "id": "f12d084a",
   "metadata": {},
   "source": [
    "### Array Creation Functions"
   ]
  },
  {
   "cell_type": "code",
   "execution_count": null,
   "id": "bc3e882f",
   "metadata": {},
   "outputs": [
    {
     "name": "stdout",
     "output_type": "stream",
     "text": [
      "Range array:\n",
      "[0 2 4 6 8]\n",
      "\n",
      "Linspace array:\n",
      "[0.   0.25 0.5  0.75 1.  ]\n",
      "\n",
      "Empty array:\n",
      "[[1. 1.]\n",
      " [1. 1.]]\n",
      "\n"
     ]
    }
   ],
   "source": [
    "# Zeros and ones\n",
    "zeros_array = np.zeros((3, 4))          # 3x4 array of zeros\n",
    "ones_array = np.ones((2, 2, 3))         # 2x2x3 array of ones\n",
    "full_array = np.full((3, 3), 7)         # 3x3 array filled with 7# Identity matrix\n",
    "identity = np.eye(4)                    # 4x4 identity matrix\n",
    "print(f\"Zeros array:\\n{zeros_array}\\n\")\n",
    "print(f\"Ones array:\\n{ones_array}\\n\")\n",
    "print(f\"Full array:\\n{full_array}\\n\")\n",
    "print(f\"Identity matrix:\\n{identity}\\n\")\n",
    "\n"
   ]
  },
  {
   "cell_type": "code",
   "execution_count": 7,
   "id": "356cb7d9",
   "metadata": {},
   "outputs": [
    {
     "name": "stdout",
     "output_type": "stream",
     "text": [
      "Range array:\n",
      "[0 2 4 6 8]\n",
      "\n",
      "Linspace array:\n",
      "[0.   0.25 0.5  0.75 1.  ]\n",
      "\n",
      "Empty array:\n",
      "[[7.11714707e-312 7.11714707e-312 7.11714708e-312]\n",
      " [7.11714708e-312 7.11714708e-312 7.11714708e-312]]\n",
      "\n"
     ]
    }
   ],
   "source": [
    "# Sequences\n",
    "\n",
    "range_array = np.arange(0, 10, 2)       # arrange create an array of numbers from 0 to 10 with a step of 2\n",
    "linspace_array = np.linspace(0, 1, 5)   # linespace create an array of 5 evenly spaced numbers between 0 and 1\n",
    "empty_array = np.empty((2, 3))          # Faster than zeros, but contains garbage\n",
    "\n",
    "print(f\"Range array:\\n{range_array}\\n\")\n",
    "print(f\"Linspace array:\\n{linspace_array}\\n\")\n",
    "print(f\"Empty array:\\n{empty_array}\\n\")"
   ]
  },
  {
   "cell_type": "markdown",
   "id": "183a380d",
   "metadata": {},
   "source": [
    "### Array Manipulation"
   ]
  },
  {
   "cell_type": "code",
   "execution_count": null,
   "id": "d612d74d",
   "metadata": {},
   "outputs": [
    {
     "name": "stdout",
     "output_type": "stream",
     "text": [
      "[[1 2]\n",
      " [3 4]\n",
      " [5 6]]\n",
      "\n",
      "[1 2 3 4 5 6]\n",
      "\n",
      "[1 2 3 4 5 6]\n",
      "\n"
     ]
    }
   ],
   "source": [
    "arr = np.array([[1, 2, 3], \n",
    "                [4, 5, 6]])\n",
    "\n",
    "# Reshaping \n",
    "reshaped = arr.reshape(3,2)            # Change shape to 3x2\n",
    "flattened = arr.flatten()               # Convert to 1D\n",
    "raveled = arr.ravel()                   # Flatten (returns view if possible)\n",
    "\n",
    "print(reshaped, end='\\n\\n')\n",
    "print(flattened, end='\\n\\n')\n",
    "print(raveled, end='\\n\\n')"
   ]
  },
  {
   "cell_type": "code",
   "execution_count": null,
   "id": "96fb5016",
   "metadata": {},
   "outputs": [
    {
     "name": "stdout",
     "output_type": "stream",
     "text": [
      "[[1 4]\n",
      " [2 5]\n",
      " [3 6]]\n",
      "\n",
      "[[1 4]\n",
      " [2 5]\n",
      " [3 6]]\n",
      "\n"
     ]
    }
   ],
   "source": [
    "# Transposing is flipping the dimensions of the array\n",
    "transposed = arr.T                      # Transpose\n",
    "transposed_2 = np.transpose(arr)        # Alternative transpose\n",
    "\n",
    "print(transposed, end='\\n\\n')\n",
    "print(transposed_2, end='\\n\\n')\n"
   ]
  },
  {
   "cell_type": "code",
   "execution_count": 110,
   "id": "70e809f4",
   "metadata": {},
   "outputs": [
    {
     "name": "stdout",
     "output_type": "stream",
     "text": [
      "[[ 1  2  3]\n",
      " [ 4  5  6]\n",
      " [ 7  8  9]\n",
      " [10 11 12]]\n",
      "\n",
      "[[ 1  2  3  7  8  9]\n",
      " [ 4  5  6 10 11 12]]\n",
      "\n",
      "[[ 1  2  3]\n",
      " [ 4  5  6]\n",
      " [ 7  8  9]\n",
      " [10 11 12]]\n",
      "\n"
     ]
    }
   ],
   "source": [
    "# Concatenation\n",
    "arr2 = np.array([[7, 8, 9], [10, 11, 12]])\n",
    "vertical_stack = np.vstack([arr, arr2])               # Stack vertically\n",
    "horizontal_stack = np.hstack([arr, arr2])             # Stack horizontally\n",
    "concatenated = np.concatenate([arr, arr2], axis=0)    # General concatenation\n",
    "\n",
    "print(vertical_stack, end='\\n\\n')\n",
    "print(horizontal_stack, end='\\n\\n')\n",
    "print(concatenated, end='\\n\\n')"
   ]
  },
  {
   "cell_type": "code",
   "execution_count": null,
   "id": "7015924b",
   "metadata": {},
   "outputs": [
    {
     "name": "stdout",
     "output_type": "stream",
     "text": [
      "Upper part:\n",
      "[[1 2 3]\n",
      " [4 5 6]]\n",
      "\n",
      "Lower part:\n",
      "[[ 7  8  9]\n",
      " [10 11 12]]\n",
      "\n"
     ]
    }
   ],
   "source": [
    "# Splitting \n",
    "upper, lower = np.split(vertical_stack, 2, axis=0)  # Split into 2 parts \n",
    "print(f\"Upper part:\\n{upper}\\n\")\n",
    "print(f\"Lower part:\\n{lower}\\n\")"
   ]
  },
  {
   "cell_type": "markdown",
   "id": "649f564c",
   "metadata": {},
   "source": [
    "### Data Type Control"
   ]
  },
  {
   "cell_type": "code",
   "execution_count": 11,
   "id": "c31896c1",
   "metadata": {},
   "outputs": [
    {
     "name": "stdout",
     "output_type": "stream",
     "text": [
      "[1 2 3]\n",
      "\n",
      "[1. 2. 3.]\n",
      "\n",
      "[False  True False]\n",
      "\n"
     ]
    }
   ],
   "source": [
    "# Specify data types\n",
    "int_array = np.array([1.65, 2.5, 3.33], dtype=np.int32)               # Integer array\n",
    "float_array = np.array([1, 2, 3], dtype=np.float64)         # Float array\n",
    "bool_array = np.array([0, 1, 0], dtype=np.bool_) # Boolean array\n",
    "\n",
    "\n",
    "print(int_array,end='\\n\\n')\n",
    "print(float_array,end=\"\\n\\n\")\n",
    "print(bool_array, end=\"\\n\\n\")\n",
    "\n",
    "\n",
    "\n"
   ]
  },
  {
   "cell_type": "code",
   "execution_count": 12,
   "id": "64b42302",
   "metadata": {},
   "outputs": [
    {
     "name": "stdout",
     "output_type": "stream",
     "text": [
      "[1. 2. 3.]\n",
      "\n",
      "Original dtype: int32\n",
      "Converted dtype: float32\n"
     ]
    }
   ],
   "source": [
    "# Type conversion\n",
    "converted = int_array.astype(np.float32)\n",
    "print(converted)\n",
    "\n",
    "# Check data type\n",
    "print(f\"\\nOriginal dtype: {int_array.dtype}\")\n",
    "print(f\"Converted dtype: {converted.dtype}\")"
   ]
  },
  {
   "cell_type": "markdown",
   "id": "5c0137a1",
   "metadata": {},
   "source": [
    "### Memory and Performance"
   ]
  },
  {
   "cell_type": "code",
   "execution_count": null,
   "id": "3b0a8c9b",
   "metadata": {},
   "outputs": [
    {
     "name": "stdout",
     "output_type": "stream",
     "text": [
      "C-contiguous: True\n",
      "F-contiguous: False\n",
      "View after original change: [  2 999   4]\n",
      "Copy after original change: [2 3 4]\n"
     ]
    }
   ],
   "source": [
    "# Memory layout\n",
    "arr = np.array([[1, 2, 3],\n",
    "                [4, 5, 6]])\n",
    "print(f\"C-contiguous: {arr.flags['C_CONTIGUOUS']}\") # C-contiguous: True (row-major order) explain : C-contiguous means that the array is stored in row-major order, where rows are stored one after the other in memory.\n",
    "print(f\"F-contiguous: {arr.flags['F_CONTIGUOUS']}\") # F-contiguous: False (column-major order)\n",
    "\n",
    "# Views vs Copies\n",
    "original = np.array([1, 2, 3, 4, 5])\n",
    "view = original[1:4]        # explain : This creates a view of the original array, meaning it references the same data.\n",
    "copy = original[1:4].copy() # explain : This creates a copy of the original array slice, meaning it has its own separate data.\n",
    "\n",
    "original[2] = 999\n",
    "print(f\"View after original change: {view}\")    # [2, 999, 4]\n",
    "print(f\"Copy after original change: {copy}\")    # [2, 3, 4]"
   ]
  },
  {
   "cell_type": "markdown",
   "id": "557483b4",
   "metadata": {},
   "source": [
    "## 10. Practical Examples and Use Cases"
   ]
  },
  {
   "cell_type": "markdown",
   "id": "eb662312",
   "metadata": {},
   "source": [
    "### Image Processing Basics"
   ]
  },
  {
   "cell_type": "code",
   "execution_count": 17,
   "id": "0650c777",
   "metadata": {},
   "outputs": [
    {
     "data": {
      "image/png": "[encoded data removed]",
      "text/plain": [
       "<Figure size 1200x800 with 5 Axes>"
      ]
     },
     "metadata": {},
     "output_type": "display_data"
    }
   ],
   "source": [
    "# Simulate a grayscale image (2D array)\n",
    "image = np.random.randint(0, 256, (100, 100), dtype=np.uint8) #uint8 is an 8-bit unsigned integer\n",
    "#Explanation: This creates a 100x100 array of random integers between 0 and 255, simulating a grayscale image.\n",
    "\n",
    "# Basic operations\n",
    "brightened = np.clip(image + 50, 0, 255)  # Brighten image\n",
    "# Explanation: This adds 50 to each pixel value, clipping the result to the range [0, 255].\n",
    "\n",
    "darkened = np.clip(image - 50, 0, 255)    # Darken image\n",
    "inverted = 255 - image                    # Invert colors\n",
    "\n",
    " # Thresholding\n",
    "binary = np.where(image > 127, 255, 0)    # Binary threshold\n",
    "# Explanation: This sets all pixels greater than 127 to 255 (white) and all others to 0 (black).\n",
    "\n",
    "# Display\n",
    "import matplotlib.pyplot as plt\n",
    "\n",
    "plt.figure(figsize=(12, 8))\n",
    "\n",
    "plt.subplot(2, 3, 1)\n",
    "plt.title(\"Original\")\n",
    "plt.imshow(image, cmap='gray')\n",
    "plt.axis('off')\n",
    "\n",
    "plt.subplot(2, 3, 2)\n",
    "plt.title(\"Brightened\")\n",
    "plt.imshow(brightened, cmap='gray')\n",
    "plt.axis('off')\n",
    "\n",
    "plt.subplot(2, 3, 3)\n",
    "plt.title(\"Darkened\")\n",
    "plt.imshow(darkened, cmap='gray')\n",
    "plt.axis('off')\n",
    "\n",
    "plt.subplot(2, 3, 4)\n",
    "plt.title(\"Inverted\")\n",
    "plt.imshow(inverted, cmap='gray')\n",
    "plt.axis('off')\n",
    "\n",
    "plt.subplot(2, 3, 5)\n",
    "plt.title(\"Binary\")\n",
    "plt.imshow(binary, cmap='gray')\n",
    "plt.axis('off')\n",
    "\n",
    "plt.tight_layout()\n",
    "plt.show()\n"
   ]
  },
  {
   "cell_type": "markdown",
   "id": "00458699",
   "metadata": {},
   "source": [
    "### Financial Analysis"
   ]
  },
  {
   "cell_type": "code",
   "execution_count": null,
   "id": "05167747",
   "metadata": {},
   "outputs": [
    {
     "name": "stdout",
     "output_type": "stream",
     "text": [
      "Final price: $120.47\n",
      "Volatility: 30.65%\n",
      "Max drawdown: $28.14\n"
     ]
    }
   ],
   "source": [
    "# Stock price simulation\n",
    "np.random.seed(42)\n",
    "days = 252  # Trading days in a year\n",
    "returns = np.random.normal(0.001, 0.02, days)  # Daily returns\n",
    "prices = 100 * np.cumprod(1 + returns)  # Cumulative price\n",
    "\n",
    "# Analysis\n",
    "volatility = np.std(returns) * np.sqrt(252)  # Annualized volatility\n",
    "max_drawdown = np.max(np.maximum.accumulate(prices) - prices)\n",
    "\n",
    "print(f\"Final price: ${prices[-1]:.2f}\")\n",
    "print(f\"Volatility: {volatility:.2%}\")\n",
    "print(f\"Max drawdown: ${max_drawdown:.2f}\")"
   ]
  },
  {
   "cell_type": "markdown",
   "id": "0e3ab96d",
   "metadata": {},
   "source": [
    "### Scientific Computing"
   ]
  },
  {
   "cell_type": "code",
   "execution_count": 20,
   "id": "d007ab2f",
   "metadata": {},
   "outputs": [
    {
     "name": "stdout",
     "output_type": "stream",
     "text": [
      "Approximate area under curve: 93.35\n"
     ]
    }
   ],
   "source": [
    "# Polynomial evaluation\n",
    "x = np.linspace(-5, 5, 100)\n",
    "coefficients = [1, -2, 1]  # x^2 - 2x + 1\n",
    "y = np.polyval(coefficients, x)\n",
    "\n",
    "# Root finding (approximate)\n",
    "roots_mask = np.abs(y) < 0.1\n",
    "approximate_roots = x[roots_mask]\n",
    "\n",
    "# Integration (trapezoidal rule)\n",
    "area = np.trapz(y, x)\n",
    "print(f\"Approximate area under curve: {area:.2f}\")"
   ]
  },
  {
   "cell_type": "markdown",
   "id": "32fe4d8e",
   "metadata": {},
   "source": [
    "## 11. Best Practices and Performance Tips"
   ]
  },
  {
   "cell_type": "markdown",
   "id": "c4c7f4dd",
   "metadata": {},
   "source": [
    "###  Performance Guidelines"
   ]
  },
  {
   "cell_type": "markdown",
   "id": "1b226f54",
   "metadata": {},
   "source": [
    "Use vectorized operations instead of loops"
   ]
  },
  {
   "cell_type": "code",
   "execution_count": 21,
   "id": "36d64803",
   "metadata": {},
   "outputs": [],
   "source": [
    "# Slow (Python loop)\n",
    "result = []\n",
    "for i in range(len(arr)):\n",
    "    result.append(arr[i] ** 2)\n",
    "\n",
    "# Fast (vectorized)\n",
    "result = arr ** 2"
   ]
  },
  {
   "cell_type": "markdown",
   "id": "fcc40efa",
   "metadata": {},
   "source": [
    "Pre-allocate arrays when possible"
   ]
  },
  {
   "cell_type": "code",
   "execution_count": null,
   "id": "d3210148",
   "metadata": {},
   "outputs": [
    {
     "data": {
      "text/plain": [
       "array([ 0,  1,  4,  9, 16, 25, 36, 49, 64, 81])"
      ]
     },
     "execution_count": 30,
     "metadata": {},
     "output_type": "execute_result"
    }
   ],
   "source": [
    "# Slow (growing array)\n",
    "result = np.array([])\n",
    "for i in range(1000):\n",
    "    result = np.append(result, i**2)\n",
    "\n",
    "# Fast (pre-allocated)\n",
    "result = np.empty(1000)\n",
    "for i in range(1000):\n",
    "    result[i] = i**2\n",
    "\n",
    "# Even faster (vectorized)\n",
    "result = np.arange(10) ** 2\n",
    "#explanation: This creates an array of integers from 0 to 9 and squares them all at once.\n",
    "result"
   ]
  },
  {
   "cell_type": "markdown",
   "id": "bea422df",
   "metadata": {},
   "source": [
    "Use appropriate data types"
   ]
  },
  {
   "cell_type": "code",
   "execution_count": 31,
   "id": "876648e1",
   "metadata": {},
   "outputs": [],
   "source": [
    "# Use smaller data types when possible\n",
    "large_int = np.array([1, 2, 3], dtype=np.int64)  # 8 bytes per element\n",
    "small_int = np.array([1, 2, 3], dtype=np.int8)   # 1 byte per element"
   ]
  },
  {
   "cell_type": "markdown",
   "id": "b5bff4e6",
   "metadata": {},
   "source": [
    "## Memory Management"
   ]
  },
  {
   "cell_type": "code",
   "execution_count": 41,
   "id": "733bff9c",
   "metadata": {},
   "outputs": [
    {
     "name": "stdout",
     "output_type": "stream",
     "text": [
      "Memory usage: 7.63 MB\n"
     ]
    }
   ],
   "source": [
    "# Check memory usage\n",
    "arr = np.random.random((1000, 1000))\n",
    "print(f\"Memory usage: {arr.nbytes / 1024**2:.2f} MB\")\n",
    "\n",
    "# Delete large arrays when done\n",
    "del arr\n",
    "\n",
    "# Use memory mapping for very large datasets\n",
    "# mmap_array = np.memmap('large_file.dat', dtype='float32', mode='r', shape=(10000, 10000))"
   ]
  }
 ],
 "metadata": {
  "kernelspec": {
   "display_name": "Python 3",
   "language": "python",
   "name": "python3"
  },
  "language_info": {
   "codemirror_mode": {
    "name": "ipython",
    "version": 3
   },
   "file_extension": ".py",
   "mimetype": "text/x-python",
   "name": "python",
   "nbconvert_exporter": "python",
   "pygments_lexer": "ipython3",
   "version": "3.12.6"
  }
 },
 "nbformat": 4,
 "nbformat_minor": 5
}
